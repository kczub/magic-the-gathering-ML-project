{
 "cells": [
  {
   "cell_type": "code",
   "execution_count": 1,
   "id": "demographic-breathing",
   "metadata": {},
   "outputs": [],
   "source": [
    "import os\n",
    "import pandas as pd\n",
    "from sklearn.metrics import mean_absolute_error, accuracy_score\n",
    "from sklearn.model_selection import train_test_split\n",
    "from sklearn.ensemble import RandomForestClassifier"
   ]
  },
  {
   "cell_type": "code",
   "execution_count": 2,
   "id": "persistent-washington",
   "metadata": {},
   "outputs": [],
   "source": [
    "BASE_DIR = os.getcwd()\n",
    "ready_csv_path = os.path.join(BASE_DIR, \"mtg-01.csv\")"
   ]
  },
  {
   "cell_type": "code",
   "execution_count": 3,
   "id": "liquid-creature",
   "metadata": {},
   "outputs": [],
   "source": [
    "df = pd.read_csv(ready_csv_path)"
   ]
  },
  {
   "cell_type": "code",
   "execution_count": 4,
   "id": "selective-shanghai",
   "metadata": {},
   "outputs": [
    {
     "data": {
      "text/html": [
       "<div>\n",
       "<style scoped>\n",
       "    .dataframe tbody tr th:only-of-type {\n",
       "        vertical-align: middle;\n",
       "    }\n",
       "\n",
       "    .dataframe tbody tr th {\n",
       "        vertical-align: top;\n",
       "    }\n",
       "\n",
       "    .dataframe thead th {\n",
       "        text-align: right;\n",
       "    }\n",
       "</style>\n",
       "<table border=\"1\" class=\"dataframe\">\n",
       "  <thead>\n",
       "    <tr style=\"text-align: right;\">\n",
       "      <th></th>\n",
       "      <th>cmc</th>\n",
       "      <th>power</th>\n",
       "      <th>toughness</th>\n",
       "      <th>color</th>\n",
       "      <th>type</th>\n",
       "    </tr>\n",
       "  </thead>\n",
       "  <tbody>\n",
       "    <tr>\n",
       "      <th>0</th>\n",
       "      <td>6.0</td>\n",
       "      <td>1</td>\n",
       "      <td>1</td>\n",
       "      <td>0</td>\n",
       "      <td>0</td>\n",
       "    </tr>\n",
       "    <tr>\n",
       "      <th>1</th>\n",
       "      <td>2.0</td>\n",
       "      <td>0</td>\n",
       "      <td>0</td>\n",
       "      <td>1</td>\n",
       "      <td>0</td>\n",
       "    </tr>\n",
       "    <tr>\n",
       "      <th>2</th>\n",
       "      <td>0.0</td>\n",
       "      <td>0</td>\n",
       "      <td>0</td>\n",
       "      <td>1</td>\n",
       "      <td>1</td>\n",
       "    </tr>\n",
       "    <tr>\n",
       "      <th>3</th>\n",
       "      <td>3.0</td>\n",
       "      <td>0</td>\n",
       "      <td>0</td>\n",
       "      <td>2</td>\n",
       "      <td>0</td>\n",
       "    </tr>\n",
       "    <tr>\n",
       "      <th>4</th>\n",
       "      <td>1.0</td>\n",
       "      <td>0</td>\n",
       "      <td>0</td>\n",
       "      <td>1</td>\n",
       "      <td>0</td>\n",
       "    </tr>\n",
       "  </tbody>\n",
       "</table>\n",
       "</div>"
      ],
      "text/plain": [
       "   cmc  power  toughness  color  type\n",
       "0  6.0      1          1      0     0\n",
       "1  2.0      0          0      1     0\n",
       "2  0.0      0          0      1     1\n",
       "3  3.0      0          0      2     0\n",
       "4  1.0      0          0      1     0"
      ]
     },
     "execution_count": 4,
     "metadata": {},
     "output_type": "execute_result"
    }
   ],
   "source": [
    "df.head()"
   ]
  },
  {
   "cell_type": "markdown",
   "id": "weird-chamber",
   "metadata": {},
   "source": [
    "### Prepare data that we're going to feed to the classifier"
   ]
  },
  {
   "cell_type": "markdown",
   "id": "creative-worker",
   "metadata": {},
   "source": [
    "#### Set efficient dtypes"
   ]
  },
  {
   "cell_type": "code",
   "execution_count": 5,
   "id": "living-pantyhose",
   "metadata": {},
   "outputs": [],
   "source": [
    "df['power'] = df['power'].astype('int16')\n",
    "df['toughness'] = df['toughness'].astype('int16')\n",
    "df['color'] = df['color'].astype('int16')\n",
    "df['type'] = df['type'].astype('int16')"
   ]
  },
  {
   "cell_type": "markdown",
   "id": "coastal-edinburgh",
   "metadata": {},
   "source": [
    "#### Declare target and features"
   ]
  },
  {
   "cell_type": "code",
   "execution_count": 6,
   "id": "raised-verse",
   "metadata": {},
   "outputs": [],
   "source": [
    "y = df['power']\n",
    "\n",
    "features = ['color', 'type']\n",
    "X = df[features]"
   ]
  },
  {
   "cell_type": "markdown",
   "id": "united-nicaragua",
   "metadata": {},
   "source": [
    "#### Split the data into training and test"
   ]
  },
  {
   "cell_type": "code",
   "execution_count": 7,
   "id": "spread-replacement",
   "metadata": {},
   "outputs": [],
   "source": [
    "train_X, test_X, train_y, test_y = train_test_split(X, y, random_state=5)"
   ]
  },
  {
   "cell_type": "markdown",
   "id": "primary-mississippi",
   "metadata": {},
   "source": [
    "#### Convert data to numpy arrays"
   ]
  },
  {
   "cell_type": "code",
   "execution_count": 8,
   "id": "functional-census",
   "metadata": {},
   "outputs": [],
   "source": [
    "train_X = train_X.to_numpy()\n",
    "test_X = test_X.to_numpy()\n",
    "train_y = train_y.to_numpy()\n",
    "test_y = test_y.to_numpy()"
   ]
  },
  {
   "cell_type": "markdown",
   "id": "involved-deposit",
   "metadata": {},
   "source": [
    "### Random Forest Classifier\n",
    "n_estimators= <br> max_depth= <br> max_leaf_nodes= <br> min_samples_split= <br> min_samples_leaf= <br> max_features='log2' / None"
   ]
  },
  {
   "cell_type": "code",
   "execution_count": 9,
   "id": "careful-words",
   "metadata": {},
   "outputs": [],
   "source": [
    "rf_model = RandomForestClassifier(random_state=1)\n",
    "rf_model.fit(train_X, train_y)\n",
    "forest_predictions = rf_model.predict(test_X)"
   ]
  },
  {
   "cell_type": "code",
   "execution_count": 10,
   "id": "neither-increase",
   "metadata": {},
   "outputs": [
    {
     "name": "stdout",
     "output_type": "stream",
     "text": [
      "MAE = 0.39805686526646666\n",
      "Accuracy score = 0.6019431347335333\n"
     ]
    }
   ],
   "source": [
    "score = accuracy_score(test_y, forest_predictions)\n",
    "print(\"MAE = \" + str(mean_absolute_error(test_y, forest_predictions)))\n",
    "print(\"Accuracy score = \" + str(score))"
   ]
  }
 ],
 "metadata": {
  "kernelspec": {
   "display_name": "Python 3",
   "language": "python",
   "name": "python3"
  },
  "language_info": {
   "codemirror_mode": {
    "name": "ipython",
    "version": 3
   },
   "file_extension": ".py",
   "mimetype": "text/x-python",
   "name": "python",
   "nbconvert_exporter": "python",
   "pygments_lexer": "ipython3",
   "version": "3.9.2"
  }
 },
 "nbformat": 4,
 "nbformat_minor": 5
}
