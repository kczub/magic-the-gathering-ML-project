{
 "cells": [
  {
   "cell_type": "code",
   "execution_count": 1,
   "id": "demographic-breathing",
   "metadata": {},
   "outputs": [],
   "source": [
    "import os\n",
    "import pandas as pd\n",
    "import numpy as np\n",
    "from sklearn.metrics import mean_absolute_error, accuracy_score\n",
    "from sklearn.model_selection import train_test_split, GridSearchCV\n",
    "from sklearn.ensemble import RandomForestClassifier"
   ]
  },
  {
   "cell_type": "code",
   "execution_count": 2,
   "id": "persistent-washington",
   "metadata": {},
   "outputs": [],
   "source": [
    "BASE_DIR = os.getcwd()\n",
    "ready_csv_path = os.path.join(BASE_DIR, \"mtg-nums.csv\")"
   ]
  },
  {
   "cell_type": "code",
   "execution_count": 3,
   "id": "liquid-creature",
   "metadata": {},
   "outputs": [],
   "source": [
    "df = pd.read_csv(ready_csv_path)"
   ]
  },
  {
   "cell_type": "code",
   "execution_count": 4,
   "id": "selective-shanghai",
   "metadata": {},
   "outputs": [
    {
     "data": {
      "text/html": [
       "<div>\n",
       "<style scoped>\n",
       "    .dataframe tbody tr th:only-of-type {\n",
       "        vertical-align: middle;\n",
       "    }\n",
       "\n",
       "    .dataframe tbody tr th {\n",
       "        vertical-align: top;\n",
       "    }\n",
       "\n",
       "    .dataframe thead th {\n",
       "        text-align: right;\n",
       "    }\n",
       "</style>\n",
       "<table border=\"1\" class=\"dataframe\">\n",
       "  <thead>\n",
       "    <tr style=\"text-align: right;\">\n",
       "      <th></th>\n",
       "      <th>cmc</th>\n",
       "      <th>power</th>\n",
       "      <th>toughness</th>\n",
       "      <th>color</th>\n",
       "      <th>type</th>\n",
       "    </tr>\n",
       "  </thead>\n",
       "  <tbody>\n",
       "    <tr>\n",
       "      <th>0</th>\n",
       "      <td>6.0</td>\n",
       "      <td>3.0</td>\n",
       "      <td>3.0</td>\n",
       "      <td>1</td>\n",
       "      <td>0</td>\n",
       "    </tr>\n",
       "    <tr>\n",
       "      <th>1</th>\n",
       "      <td>2.0</td>\n",
       "      <td>2.0</td>\n",
       "      <td>2.0</td>\n",
       "      <td>2</td>\n",
       "      <td>0</td>\n",
       "    </tr>\n",
       "    <tr>\n",
       "      <th>2</th>\n",
       "      <td>0.0</td>\n",
       "      <td>1.0</td>\n",
       "      <td>1.0</td>\n",
       "      <td>2</td>\n",
       "      <td>1</td>\n",
       "    </tr>\n",
       "    <tr>\n",
       "      <th>3</th>\n",
       "      <td>3.0</td>\n",
       "      <td>1.0</td>\n",
       "      <td>2.0</td>\n",
       "      <td>3</td>\n",
       "      <td>0</td>\n",
       "    </tr>\n",
       "    <tr>\n",
       "      <th>4</th>\n",
       "      <td>1.0</td>\n",
       "      <td>2.0</td>\n",
       "      <td>1.0</td>\n",
       "      <td>2</td>\n",
       "      <td>0</td>\n",
       "    </tr>\n",
       "  </tbody>\n",
       "</table>\n",
       "</div>"
      ],
      "text/plain": [
       "   cmc  power  toughness  color  type\n",
       "0  6.0    3.0        3.0      1     0\n",
       "1  2.0    2.0        2.0      2     0\n",
       "2  0.0    1.0        1.0      2     1\n",
       "3  3.0    1.0        2.0      3     0\n",
       "4  1.0    2.0        1.0      2     0"
      ]
     },
     "execution_count": 4,
     "metadata": {},
     "output_type": "execute_result"
    }
   ],
   "source": [
    "df.head()"
   ]
  },
  {
   "cell_type": "markdown",
   "id": "weird-chamber",
   "metadata": {},
   "source": [
    "### Prepare data that we're going to feed to the classifier"
   ]
  },
  {
   "cell_type": "markdown",
   "id": "creative-worker",
   "metadata": {},
   "source": [
    "#### Set efficient dtypes"
   ]
  },
  {
   "cell_type": "code",
   "execution_count": 5,
   "id": "living-pantyhose",
   "metadata": {},
   "outputs": [],
   "source": [
    "df['cmc'] = df['cmc'].astype('int16')\n",
    "df['power'] = df['power'].astype('int16')\n",
    "df['toughness'] = df['toughness'].astype('int16')\n",
    "df['color'] = df['color'].astype('int16')\n",
    "df['type'] = df['type'].astype('int16')"
   ]
  },
  {
   "cell_type": "markdown",
   "id": "coastal-edinburgh",
   "metadata": {},
   "source": [
    "#### Declare target and features"
   ]
  },
  {
   "cell_type": "code",
   "execution_count": 6,
   "id": "raised-verse",
   "metadata": {},
   "outputs": [],
   "source": [
    "y = df['type']\n",
    "\n",
    "features = ['cmc', 'power', 'toughness', 'color']\n",
    "X = df[features]"
   ]
  },
  {
   "cell_type": "markdown",
   "id": "united-nicaragua",
   "metadata": {},
   "source": [
    "#### Split the data into training and test"
   ]
  },
  {
   "cell_type": "code",
   "execution_count": 7,
   "id": "spread-replacement",
   "metadata": {},
   "outputs": [],
   "source": [
    "x_train, x_test, y_train, y_test = train_test_split(X, y, random_state=1)"
   ]
  },
  {
   "cell_type": "code",
   "execution_count": 8,
   "id": "numeric-poster",
   "metadata": {},
   "outputs": [
    {
     "name": "stdout",
     "output_type": "stream",
     "text": [
      "x_train: (20469, 4)\n",
      "x_test: (6823, 4)\n",
      "y_train: (20469,)\n",
      "y_test: (6823,)\n"
     ]
    }
   ],
   "source": [
    "print(f\"x_train: {x_train.shape}\")\n",
    "print(f\"x_test: {x_test.shape}\")\n",
    "print(f\"y_train: {y_train.shape}\")\n",
    "print(f\"y_test: {y_test.shape}\")"
   ]
  },
  {
   "cell_type": "markdown",
   "id": "primary-mississippi",
   "metadata": {},
   "source": [
    "#### Convert data to numpy arrays"
   ]
  },
  {
   "cell_type": "code",
   "execution_count": 9,
   "id": "functional-census",
   "metadata": {},
   "outputs": [],
   "source": [
    "x_train = x_train.to_numpy()\n",
    "x_test = x_test.to_numpy()\n",
    "y_train = y_train.to_numpy()\n",
    "y_test = y_test.to_numpy()"
   ]
  },
  {
   "cell_type": "markdown",
   "id": "involved-deposit",
   "metadata": {},
   "source": [
    "### Random Forest Classifier"
   ]
  },
  {
   "cell_type": "markdown",
   "id": "greenhouse-closing",
   "metadata": {},
   "source": [
    "#### Using GridSearchCV to tune the parameters"
   ]
  },
  {
   "cell_type": "code",
   "execution_count": 10,
   "id": "sharp-intellectual",
   "metadata": {},
   "outputs": [
    {
     "name": "stdout",
     "output_type": "stream",
     "text": [
      "Fitting 3 folds for each of 1 candidates, totalling 3 fits\n",
      "Train accuracy: 0.824\n",
      "Test accuracy : 0.824\n",
      "Best parameters:\n",
      " {'bootstrap': True, 'max_depth': 4, 'max_features': 'auto', 'min_samples_leaf': 2, 'min_samples_split': 5, 'n_estimators': 77, 'random_state': 1}\n"
     ]
    }
   ],
   "source": [
    "rf = RandomForestClassifier()\n",
    "\n",
    "# Based on first grid search run and fine-tuning n_estimators after that\n",
    "n_estimators = [77]\n",
    "max_features = ['auto']\n",
    "max_depth = [4]\n",
    "min_samples_split = [5]\n",
    "min_samples_leaf = [2]\n",
    "bootstrap = [True]\n",
    "random_state = [1]\n",
    "\n",
    "param_grid = {\n",
    "    \"n_estimators\": n_estimators,\n",
    "    \"max_features\": max_features,\n",
    "    \"max_depth\": max_depth,\n",
    "    \"min_samples_split\": min_samples_split,\n",
    "    \"min_samples_leaf\": min_samples_leaf,\n",
    "    \"bootstrap\": bootstrap,\n",
    "    \"random_state\": random_state\n",
    "}\n",
    "\n",
    "\n",
    "rf_grid = GridSearchCV(estimator=rf, param_grid=param_grid, cv=3, verbose=1, n_jobs=2)\n",
    "\n",
    "rf_grid.fit(x_train, y_train)\n",
    "\n",
    "print(f\"Train accuracy: {rf_grid.score(x_train, y_train):.3f}\")\n",
    "print(f\"Test accuracy : {rf_grid.score(x_test, y_test):.3f}\")\n",
    "print(f\"Best parameters:\\n {rf_grid.best_params_}\")"
   ]
  },
  {
   "cell_type": "markdown",
   "id": "ideal-worker",
   "metadata": {},
   "source": [
    "#### Fitting the model with best parameters"
   ]
  },
  {
   "cell_type": "code",
   "execution_count": 11,
   "id": "careful-words",
   "metadata": {},
   "outputs": [],
   "source": [
    "rf_model = RandomForestClassifier(n_estimators=77, max_depth=4, min_samples_split=5, min_samples_leaf=2, max_features='auto', bootstrap=True, random_state=1)\n",
    "rf_model.fit(x_train, y_train)\n",
    "forest_predictions = rf_model.predict(x_test)"
   ]
  },
  {
   "cell_type": "code",
   "execution_count": 12,
   "id": "neither-increase",
   "metadata": {},
   "outputs": [
    {
     "name": "stdout",
     "output_type": "stream",
     "text": [
      "0.176 - Mean Absolute Error\n",
      "0.824 - Accuracy score\n"
     ]
    }
   ],
   "source": [
    "score = accuracy_score(y_test, forest_predictions)\n",
    "mae = mean_absolute_error(y_test, forest_predictions)\n",
    "print(f\"{mae:.3f} - Mean Absolute Error\")\n",
    "print(f\"{score:.3f} - Accuracy score\")"
   ]
  },
  {
   "cell_type": "markdown",
   "id": "placed-harrison",
   "metadata": {},
   "source": [
    "#### Fitting the model with no parameters passed except random_state"
   ]
  },
  {
   "cell_type": "code",
   "execution_count": 13,
   "id": "moved-occasion",
   "metadata": {},
   "outputs": [
    {
     "name": "stdout",
     "output_type": "stream",
     "text": [
      "0.163 - Mean Absolute Error\n",
      "0.837 - Accuracy score\n"
     ]
    }
   ],
   "source": [
    "rf_model_2 = RandomForestClassifier(random_state=1)\n",
    "rf_model_2.fit(x_train, y_train)\n",
    "forest_predictions_2 = rf_model_2.predict(x_test)\n",
    "\n",
    "score = accuracy_score(y_test, forest_predictions_2)\n",
    "mae = mean_absolute_error(y_test, forest_predictions_2)\n",
    "print(f\"{mae:.3f} - Mean Absolute Error\")\n",
    "print(f\"{score:.3f} - Accuracy score\")"
   ]
  },
  {
   "cell_type": "code",
   "execution_count": null,
   "id": "together-queue",
   "metadata": {},
   "outputs": [],
   "source": []
  }
 ],
 "metadata": {
  "kernelspec": {
   "display_name": "Python 3",
   "language": "python",
   "name": "python3"
  },
  "language_info": {
   "codemirror_mode": {
    "name": "ipython",
    "version": 3
   },
   "file_extension": ".py",
   "mimetype": "text/x-python",
   "name": "python",
   "nbconvert_exporter": "python",
   "pygments_lexer": "ipython3",
   "version": "3.9.2"
  }
 },
 "nbformat": 4,
 "nbformat_minor": 5
}
