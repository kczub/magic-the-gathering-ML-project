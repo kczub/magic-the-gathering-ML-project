{
 "cells": [
  {
   "cell_type": "code",
   "execution_count": 1,
   "id": "demographic-breathing",
   "metadata": {},
   "outputs": [],
   "source": [
    "import os\n",
    "import numpy as np\n",
    "import pandas as pd\n",
    "import matplotlib.pyplot as plt\n",
    "import seaborn as sns\n",
    "%matplotlib inline"
   ]
  },
  {
   "cell_type": "code",
   "execution_count": 2,
   "id": "persistent-washington",
   "metadata": {},
   "outputs": [],
   "source": [
    "BASE_DIR = os.getcwd()\n",
    "csv_path = os.path.join(BASE_DIR, \"mtg-trimmed-1.csv\")\n",
    "clean_csv_path = os.path.join(BASE_DIR, \"mtg-01.csv\")\n",
    "pd.set_option(\"display.max_columns\", None)"
   ]
  },
  {
   "cell_type": "code",
   "execution_count": 3,
   "id": "liquid-creature",
   "metadata": {},
   "outputs": [],
   "source": [
    "df = pd.read_csv(csv_path)"
   ]
  },
  {
   "cell_type": "code",
   "execution_count": 4,
   "id": "musical-calculation",
   "metadata": {},
   "outputs": [
    {
     "data": {
      "text/html": [
       "<div>\n",
       "<style scoped>\n",
       "    .dataframe tbody tr th:only-of-type {\n",
       "        vertical-align: middle;\n",
       "    }\n",
       "\n",
       "    .dataframe tbody tr th {\n",
       "        vertical-align: top;\n",
       "    }\n",
       "\n",
       "    .dataframe thead th {\n",
       "        text-align: right;\n",
       "    }\n",
       "</style>\n",
       "<table border=\"1\" class=\"dataframe\">\n",
       "  <thead>\n",
       "    <tr style=\"text-align: right;\">\n",
       "      <th></th>\n",
       "      <th>name</th>\n",
       "      <th>mana_cost</th>\n",
       "      <th>cmc</th>\n",
       "      <th>type_line</th>\n",
       "      <th>power</th>\n",
       "      <th>toughness</th>\n",
       "      <th>colors</th>\n",
       "      <th>color_identity</th>\n",
       "      <th>produced_mana</th>\n",
       "    </tr>\n",
       "  </thead>\n",
       "  <tbody>\n",
       "    <tr>\n",
       "      <th>0</th>\n",
       "      <td>Fury Sliver</td>\n",
       "      <td>{5}{R}</td>\n",
       "      <td>6.0</td>\n",
       "      <td>Creature — Sliver</td>\n",
       "      <td>3</td>\n",
       "      <td>3</td>\n",
       "      <td>['R']</td>\n",
       "      <td>['R']</td>\n",
       "      <td>NaN</td>\n",
       "    </tr>\n",
       "    <tr>\n",
       "      <th>1</th>\n",
       "      <td>Kor Outfitter</td>\n",
       "      <td>{W}{W}</td>\n",
       "      <td>2.0</td>\n",
       "      <td>Creature — Kor Soldier</td>\n",
       "      <td>2</td>\n",
       "      <td>2</td>\n",
       "      <td>['W']</td>\n",
       "      <td>['W']</td>\n",
       "      <td>NaN</td>\n",
       "    </tr>\n",
       "    <tr>\n",
       "      <th>2</th>\n",
       "      <td>Spirit</td>\n",
       "      <td>NaN</td>\n",
       "      <td>0.0</td>\n",
       "      <td>Token Creature — Spirit</td>\n",
       "      <td>1</td>\n",
       "      <td>1</td>\n",
       "      <td>['W']</td>\n",
       "      <td>['W']</td>\n",
       "      <td>NaN</td>\n",
       "    </tr>\n",
       "    <tr>\n",
       "      <th>3</th>\n",
       "      <td>Siren Lookout</td>\n",
       "      <td>{2}{U}</td>\n",
       "      <td>3.0</td>\n",
       "      <td>Creature — Siren Pirate</td>\n",
       "      <td>1</td>\n",
       "      <td>2</td>\n",
       "      <td>['U']</td>\n",
       "      <td>['U']</td>\n",
       "      <td>NaN</td>\n",
       "    </tr>\n",
       "    <tr>\n",
       "      <th>4</th>\n",
       "      <td>Web</td>\n",
       "      <td>{G}</td>\n",
       "      <td>1.0</td>\n",
       "      <td>Enchantment — Aura</td>\n",
       "      <td>NaN</td>\n",
       "      <td>NaN</td>\n",
       "      <td>['G']</td>\n",
       "      <td>['G']</td>\n",
       "      <td>NaN</td>\n",
       "    </tr>\n",
       "    <tr>\n",
       "      <th>...</th>\n",
       "      <td>...</td>\n",
       "      <td>...</td>\n",
       "      <td>...</td>\n",
       "      <td>...</td>\n",
       "      <td>...</td>\n",
       "      <td>...</td>\n",
       "      <td>...</td>\n",
       "      <td>...</td>\n",
       "      <td>...</td>\n",
       "    </tr>\n",
       "    <tr>\n",
       "      <th>61639</th>\n",
       "      <td>Angel's Tomb</td>\n",
       "      <td>{3}</td>\n",
       "      <td>3.0</td>\n",
       "      <td>Artifact</td>\n",
       "      <td>NaN</td>\n",
       "      <td>NaN</td>\n",
       "      <td>[]</td>\n",
       "      <td>[]</td>\n",
       "      <td>NaN</td>\n",
       "    </tr>\n",
       "    <tr>\n",
       "      <th>61640</th>\n",
       "      <td>Boomerang</td>\n",
       "      <td>{U}{U}</td>\n",
       "      <td>2.0</td>\n",
       "      <td>Instant</td>\n",
       "      <td>NaN</td>\n",
       "      <td>NaN</td>\n",
       "      <td>['U']</td>\n",
       "      <td>['U']</td>\n",
       "      <td>NaN</td>\n",
       "    </tr>\n",
       "    <tr>\n",
       "      <th>61641</th>\n",
       "      <td>Celestine Reef</td>\n",
       "      <td>NaN</td>\n",
       "      <td>0.0</td>\n",
       "      <td>Plane — Luvion</td>\n",
       "      <td>NaN</td>\n",
       "      <td>NaN</td>\n",
       "      <td>[]</td>\n",
       "      <td>[]</td>\n",
       "      <td>NaN</td>\n",
       "    </tr>\n",
       "    <tr>\n",
       "      <th>61642</th>\n",
       "      <td>Horned Troll</td>\n",
       "      <td>{2}{G}</td>\n",
       "      <td>3.0</td>\n",
       "      <td>Creature — Troll</td>\n",
       "      <td>2</td>\n",
       "      <td>2</td>\n",
       "      <td>['G']</td>\n",
       "      <td>['G']</td>\n",
       "      <td>NaN</td>\n",
       "    </tr>\n",
       "    <tr>\n",
       "      <th>61643</th>\n",
       "      <td>Exultant Skymarcher</td>\n",
       "      <td>{1}{W}{W}</td>\n",
       "      <td>3.0</td>\n",
       "      <td>Creature — Vampire Soldier</td>\n",
       "      <td>2</td>\n",
       "      <td>3</td>\n",
       "      <td>['W']</td>\n",
       "      <td>['W']</td>\n",
       "      <td>NaN</td>\n",
       "    </tr>\n",
       "  </tbody>\n",
       "</table>\n",
       "<p>61644 rows × 9 columns</p>\n",
       "</div>"
      ],
      "text/plain": [
       "                      name  mana_cost  cmc                   type_line power  \\\n",
       "0              Fury Sliver     {5}{R}  6.0           Creature — Sliver     3   \n",
       "1            Kor Outfitter     {W}{W}  2.0      Creature — Kor Soldier     2   \n",
       "2                   Spirit        NaN  0.0     Token Creature — Spirit     1   \n",
       "3            Siren Lookout     {2}{U}  3.0     Creature — Siren Pirate     1   \n",
       "4                      Web        {G}  1.0          Enchantment — Aura   NaN   \n",
       "...                    ...        ...  ...                         ...   ...   \n",
       "61639         Angel's Tomb        {3}  3.0                    Artifact   NaN   \n",
       "61640            Boomerang     {U}{U}  2.0                     Instant   NaN   \n",
       "61641       Celestine Reef        NaN  0.0              Plane — Luvion   NaN   \n",
       "61642         Horned Troll     {2}{G}  3.0            Creature — Troll     2   \n",
       "61643  Exultant Skymarcher  {1}{W}{W}  3.0  Creature — Vampire Soldier     2   \n",
       "\n",
       "      toughness colors color_identity produced_mana  \n",
       "0             3  ['R']          ['R']           NaN  \n",
       "1             2  ['W']          ['W']           NaN  \n",
       "2             1  ['W']          ['W']           NaN  \n",
       "3             2  ['U']          ['U']           NaN  \n",
       "4           NaN  ['G']          ['G']           NaN  \n",
       "...         ...    ...            ...           ...  \n",
       "61639       NaN     []             []           NaN  \n",
       "61640       NaN  ['U']          ['U']           NaN  \n",
       "61641       NaN     []             []           NaN  \n",
       "61642         2  ['G']          ['G']           NaN  \n",
       "61643         3  ['W']          ['W']           NaN  \n",
       "\n",
       "[61644 rows x 9 columns]"
      ]
     },
     "execution_count": 4,
     "metadata": {},
     "output_type": "execute_result"
    }
   ],
   "source": [
    "df"
   ]
  },
  {
   "cell_type": "markdown",
   "id": "northern-stone",
   "metadata": {},
   "source": [
    "## Feature Engineering"
   ]
  },
  {
   "cell_type": "markdown",
   "id": "handmade-dynamics",
   "metadata": {},
   "source": [
    "#### Plot all missing values"
   ]
  },
  {
   "cell_type": "code",
   "execution_count": 5,
   "id": "instructional-airplane",
   "metadata": {},
   "outputs": [
    {
     "data": {
      "text/plain": [
       "<AxesSubplot:title={'center':'Examine missing values'}>"
      ]
     },
     "execution_count": 5,
     "metadata": {},
     "output_type": "execute_result"
    },
    {
     "data": {
      "image/png": "[encoded data removed]",
      "text/plain": [
       "<Figure size 864x432 with 1 Axes>"
      ]
     },
     "metadata": {
      "needs_background": "light"
     },
     "output_type": "display_data"
    }
   ],
   "source": [
    "plt.figure(figsize=(12, 6))\n",
    "plt.title(\"Examine missing values\")\n",
    "sns.heatmap(df.isnull(), cbar=False)"
   ]
  },
  {
   "cell_type": "markdown",
   "id": "governing-power",
   "metadata": {},
   "source": [
    "#### We only need cards with actual \"power\" and \"toughness\" numerical values"
   ]
  },
  {
   "cell_type": "code",
   "execution_count": 6,
   "id": "ordered-butterfly",
   "metadata": {},
   "outputs": [
    {
     "name": "stdout",
     "output_type": "stream",
     "text": [
      "Number of missing values in:\n",
      "power        33129\n",
      "toughness    33129\n",
      "dtype: int64\n"
     ]
    }
   ],
   "source": [
    "print(\"Number of missing values in:\")\n",
    "print(df.loc[:, ['power', 'toughness']].isna().sum())"
   ]
  },
  {
   "cell_type": "code",
   "execution_count": 7,
   "id": "fluid-invalid",
   "metadata": {},
   "outputs": [],
   "source": [
    "# Maybe like that\n",
    "# pattern = r'([0-9]*[.]?[0-9]+)'\n",
    "df['power'] = df['power'].str.extract(r'([0-9]*[.]?[0-9]+)')\n",
    "df['toughness'] = df['toughness'].str.extract(r'([0-9]*[.]?[0-9]+)')"
   ]
  },
  {
   "cell_type": "code",
   "execution_count": 8,
   "id": "automated-round",
   "metadata": {},
   "outputs": [],
   "source": [
    "df = df[df['power'].notna()]\n",
    "df = df[df['toughness'].notna()]"
   ]
  },
  {
   "cell_type": "code",
   "execution_count": 9,
   "id": "greenhouse-rendering",
   "metadata": {
    "scrolled": true
   },
   "outputs": [
    {
     "data": {
      "text/plain": [
       "name                  0\n",
       "mana_cost          1169\n",
       "cmc                   0\n",
       "type_line             0\n",
       "power                 0\n",
       "toughness             0\n",
       "colors                0\n",
       "color_identity        0\n",
       "produced_mana     27095\n",
       "dtype: int64"
      ]
     },
     "execution_count": 9,
     "metadata": {},
     "output_type": "execute_result"
    }
   ],
   "source": [
    "df.isna().sum()"
   ]
  },
  {
   "cell_type": "markdown",
   "id": "israeli-mayor",
   "metadata": {},
   "source": [
    "#### There's too many missing values in \"produced_mana\" to keep this column. I suspect that very few cards that can attack, also produce mana, so I'll consider them unnecessary."
   ]
  },
  {
   "cell_type": "code",
   "execution_count": 10,
   "id": "manual-digit",
   "metadata": {},
   "outputs": [],
   "source": [
    "df.drop(columns='produced_mana', inplace=True)"
   ]
  },
  {
   "cell_type": "markdown",
   "id": "finished-brighton",
   "metadata": {},
   "source": [
    "#### Convert dtypes"
   ]
  },
  {
   "cell_type": "code",
   "execution_count": 11,
   "id": "endless-oakland",
   "metadata": {},
   "outputs": [],
   "source": [
    "df[['power', 'toughness']] = df[['power', 'toughness']].astype(float)"
   ]
  },
  {
   "cell_type": "markdown",
   "id": "perfect-stanley",
   "metadata": {},
   "source": [
    "#### Create \"type\" column"
   ]
  },
  {
   "cell_type": "code",
   "execution_count": 12,
   "id": "seeing-father",
   "metadata": {},
   "outputs": [],
   "source": [
    "def make_list(row):\n",
    "    return row.replace('—', ',').split(',')\n",
    "\n",
    "df['type_line'] = df['type_line'].apply(lambda x: make_list(x))\n",
    "df['type'] = df['type_line'].apply(lambda x: x[0])"
   ]
  },
  {
   "cell_type": "markdown",
   "id": "agreed-silence",
   "metadata": {},
   "source": [
    "#### Mapping values to 0 (below mean) and 1 (above)"
   ]
  },
  {
   "cell_type": "code",
   "execution_count": 13,
   "id": "stone-vampire",
   "metadata": {},
   "outputs": [],
   "source": [
    "# Mapping \"power\"\n",
    "df.loc[df['power'] <= 2.5, 'power'] = 0\n",
    "df.loc[df['power'] > 2.5, 'power'] = 1\n",
    "\n",
    "# Mapping \"toughness\"\n",
    "df.loc[df['toughness'] <= 2.5, 'toughness'] = 0\n",
    "df.loc[df['toughness'] > 2.5, 'toughness'] = 1"
   ]
  },
  {
   "cell_type": "markdown",
   "id": "previous-tract",
   "metadata": {},
   "source": [
    "#### Mapping \"Creature\" type to 0 and any other type to 1"
   ]
  },
  {
   "cell_type": "code",
   "execution_count": 14,
   "id": "north-proposition",
   "metadata": {},
   "outputs": [],
   "source": [
    "# Mapping \"type\"\n",
    "def creature(string):\n",
    "    if string.startswith(\"C\"):\n",
    "        return 0\n",
    "    return 1\n",
    "\n",
    "df['type'] = df['type'].apply(lambda x: creature(x))"
   ]
  },
  {
   "cell_type": "code",
   "execution_count": 15,
   "id": "weighted-convergence",
   "metadata": {},
   "outputs": [],
   "source": [
    "# TO-DO MAYBE (GET TYPE_2)\n",
    "# df['type_2'] = df['type_line'].apply(lambda x: x[1])"
   ]
  },
  {
   "cell_type": "markdown",
   "id": "royal-nitrogen",
   "metadata": {},
   "source": [
    "#### Since \"cmc\" is just a sum of values from \"mana_cost\", without specified mana color, I will keep only \"cmc\". Also, I will drop \"colors\" column, because is seems to be very similar to \"color_identity\". Finally, I'll drop \"name\" and \"type_line\"."
   ]
  },
  {
   "cell_type": "code",
   "execution_count": 16,
   "id": "heavy-command",
   "metadata": {
    "scrolled": true
   },
   "outputs": [],
   "source": [
    "df.drop(columns=['name', 'mana_cost', 'type_line', 'colors'], inplace=True)\n",
    "df.rename(columns={'color_identity': 'color'}, inplace=True)"
   ]
  },
  {
   "cell_type": "markdown",
   "id": "becoming-violence",
   "metadata": {},
   "source": [
    "#### Adjust \"color\" values"
   ]
  },
  {
   "cell_type": "code",
   "execution_count": 17,
   "id": "constitutional-insight",
   "metadata": {
    "scrolled": true
   },
   "outputs": [
    {
     "data": {
      "text/plain": [
       "(27996, 5)"
      ]
     },
     "execution_count": 17,
     "metadata": {},
     "output_type": "execute_result"
    }
   ],
   "source": [
    "df.shape"
   ]
  },
  {
   "cell_type": "code",
   "execution_count": 18,
   "id": "nonprofit-fancy",
   "metadata": {
    "scrolled": true
   },
   "outputs": [],
   "source": [
    "def color(letters):\n",
    "    if len(letters) < 3:\n",
    "        return np.nan\n",
    "    return letters[2]"
   ]
  },
  {
   "cell_type": "code",
   "execution_count": 19,
   "id": "located-reputation",
   "metadata": {},
   "outputs": [],
   "source": [
    "df['color'] = df['color'].apply(lambda x: color(x))"
   ]
  },
  {
   "cell_type": "code",
   "execution_count": 20,
   "id": "promising-sitting",
   "metadata": {},
   "outputs": [],
   "source": [
    "df.reset_index(drop=True, inplace=True)"
   ]
  },
  {
   "cell_type": "code",
   "execution_count": 21,
   "id": "retired-handling",
   "metadata": {},
   "outputs": [],
   "source": [
    "df.loc[df['color'] == \"R\", 'color'] = 0 # start from 1?\n",
    "df.loc[df['color'] == \"W\", 'color'] = 1\n",
    "df.loc[df['color'] == \"U\", 'color'] = 2\n",
    "df.loc[df['color'] == \"G\", 'color'] = 3\n",
    "df.loc[df['color'] == \"B\", 'color'] = 4"
   ]
  },
  {
   "cell_type": "code",
   "execution_count": 22,
   "id": "corporate-peninsula",
   "metadata": {},
   "outputs": [
    {
     "data": {
      "text/plain": [
       "cmc             0\n",
       "power           0\n",
       "toughness       0\n",
       "color        1595\n",
       "type            0\n",
       "dtype: int64"
      ]
     },
     "execution_count": 22,
     "metadata": {},
     "output_type": "execute_result"
    }
   ],
   "source": [
    "df.isna().sum()"
   ]
  },
  {
   "cell_type": "markdown",
   "id": "average-participant",
   "metadata": {},
   "source": [
    "#### This generated some missing values, let's fill them"
   ]
  },
  {
   "cell_type": "code",
   "execution_count": 23,
   "id": "widespread-edmonton",
   "metadata": {},
   "outputs": [],
   "source": [
    "df.fillna(method='bfill', inplace=True)"
   ]
  },
  {
   "cell_type": "code",
   "execution_count": 29,
   "id": "resistant-blocking",
   "metadata": {},
   "outputs": [
    {
     "data": {
      "text/plain": [
       "0"
      ]
     },
     "execution_count": 29,
     "metadata": {},
     "output_type": "execute_result"
    }
   ],
   "source": [
    "df['color'].isna().sum()"
   ]
  },
  {
   "cell_type": "code",
   "execution_count": 25,
   "id": "commercial-shakespeare",
   "metadata": {},
   "outputs": [],
   "source": [
    "df.to_csv(clean_csv_path, index=False)"
   ]
  }
 ],
 "metadata": {
  "kernelspec": {
   "display_name": "Python 3",
   "language": "python",
   "name": "python3"
  },
  "language_info": {
   "codemirror_mode": {
    "name": "ipython",
    "version": 3
   },
   "file_extension": ".py",
   "mimetype": "text/x-python",
   "name": "python",
   "nbconvert_exporter": "python",
   "pygments_lexer": "ipython3",
   "version": "3.9.2"
  }
 },
 "nbformat": 4,
 "nbformat_minor": 5
}
