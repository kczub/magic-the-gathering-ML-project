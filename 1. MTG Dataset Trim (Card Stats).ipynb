{
 "cells": [
  {
   "cell_type": "code",
   "execution_count": null,
   "id": "demographic-breathing",
   "metadata": {},
   "outputs": [],
   "source": [
    "import os\n",
    "import pandas as pd\n",
    "import matplotlib.pyplot as plt\n",
    "import seaborn as sns\n",
    "%matplotlib inline"
   ]
  },
  {
   "cell_type": "code",
   "execution_count": null,
   "id": "persistent-washington",
   "metadata": {},
   "outputs": [],
   "source": [
    "BASE_DIR = os.getcwd()\n",
    "file_path = os.path.join(BASE_DIR, \"mtg-default-cards.json\")\n",
    "csv_path = os.path.join(BASE_DIR, \"mtg-trimmed-1.csv\")\n",
    "pd.set_option(\"display.max_columns\", None)"
   ]
  },
  {
   "cell_type": "code",
   "execution_count": null,
   "id": "applicable-thumbnail",
   "metadata": {},
   "outputs": [],
   "source": [
    "cards = pd.read_json(file_path)"
   ]
  },
  {
   "cell_type": "code",
   "execution_count": null,
   "id": "mature-southeast",
   "metadata": {},
   "outputs": [],
   "source": [
    "cards.head()"
   ]
  },
  {
   "cell_type": "code",
   "execution_count": null,
   "id": "reasonable-basics",
   "metadata": {},
   "outputs": [],
   "source": [
    "cards.columns"
   ]
  },
  {
   "cell_type": "markdown",
   "id": "underlying-force",
   "metadata": {},
   "source": [
    "### Create a DataFrame containing relevant information"
   ]
  },
  {
   "cell_type": "code",
   "execution_count": null,
   "id": "molecular-saint",
   "metadata": {},
   "outputs": [],
   "source": [
    "df_trim = cards[['name', 'mana_cost', 'cmc', 'type_line', 'power', 'toughness', 'colors', 'color_identity', 'produced_mana']]"
   ]
  },
  {
   "cell_type": "code",
   "execution_count": null,
   "id": "figured-trash",
   "metadata": {},
   "outputs": [],
   "source": [
    "df_trim.head()"
   ]
  },
  {
   "cell_type": "markdown",
   "id": "cosmetic-mentor",
   "metadata": {},
   "source": [
    "### Save trimmed dataset"
   ]
  },
  {
   "cell_type": "code",
   "execution_count": null,
   "id": "collect-tower",
   "metadata": {},
   "outputs": [],
   "source": [
    "df_trim.to_csv(csv_path, index=False)"
   ]
  }
 ],
 "metadata": {
  "kernelspec": {
   "display_name": "Python 3",
   "language": "python",
   "name": "python3"
  },
  "language_info": {
   "codemirror_mode": {
    "name": "ipython",
    "version": 3
   },
   "file_extension": ".py",
   "mimetype": "text/x-python",
   "name": "python",
   "nbconvert_exporter": "python",
   "pygments_lexer": "ipython3",
   "version": "3.9.2"
  }
 },
 "nbformat": 4,
 "nbformat_minor": 5
}
